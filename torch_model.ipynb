{
  "nbformat": 4,
  "nbformat_minor": 0,
  "metadata": {
    "colab": {
      "provenance": [],
      "authorship_tag": "ABX9TyPA/mfYr1S5u2ZSA6hNBO9b",
      "include_colab_link": true
    },
    "kernelspec": {
      "name": "python3",
      "display_name": "Python 3"
    },
    "language_info": {
      "name": "python"
    }
  },
  "cells": [
    {
      "cell_type": "markdown",
      "metadata": {
        "id": "view-in-github",
        "colab_type": "text"
      },
      "source": [
        "<a href=\"https://colab.research.google.com/github/alifars/torch101/blob/main/torch_model.ipynb\" target=\"_parent\"><img src=\"https://colab.research.google.com/assets/colab-badge.svg\" alt=\"Open In Colab\"/></a>"
      ]
    },
    {
      "cell_type": "code",
      "execution_count": 2,
      "metadata": {
        "id": "N-gW6v16m0Y4"
      },
      "outputs": [],
      "source": [
        "import torch\n",
        "from torch import nn"
      ]
    },
    {
      "cell_type": "markdown",
      "source": [
        "## Data"
      ],
      "metadata": {
        "id": "NuFIGrFgec4W"
      }
    },
    {
      "cell_type": "code",
      "source": [
        "import random\n",
        "import numpy as np\n",
        "from sklearn.model_selection import train_test_split\n",
        "random.seed(42)\n",
        "\n",
        "X = np.random.randn(100)\n",
        "a, b = 2,3\n",
        "noise = np.random.randn(100)\n",
        "y = a*X + b + noise\n",
        "X_train, X_test, y_train, y_test = train_test_split(X,y, test_size= 0.2)\n",
        "\n",
        "X_train_tensor, X_test_tensor, y_train_tensor, y_test_tensor = torch.from_numpy(X_train),torch.from_numpy(X_test),torch.from_numpy(y_train),torch.from_numpy(y_test)"
      ],
      "metadata": {
        "id": "T-vNRpbDbY7m"
      },
      "execution_count": 6,
      "outputs": []
    },
    {
      "cell_type": "markdown",
      "source": [
        "Torch model inheritaing from torch.nn.Module\n",
        "we need to implement two methods:\n",
        "* --init__\n",
        "* forward()"
      ],
      "metadata": {
        "id": "OGo6RE2Lm4Gw"
      }
    },
    {
      "cell_type": "code",
      "source": [
        "\n",
        "\n",
        "class LinearRegressionModel(nn.Module):\n",
        "  def __init__(self):\n",
        "    super().__init__()\n",
        "    # define paramteres a, b here\n",
        "    self.a = nn.Parameter(torch.randn(1, requires_grad= True))\n",
        "    self.b = nn.Parameter(torch.randn(1, requires_grad= True))\n",
        "\n",
        "  def forward(self, x):\n",
        "    return self.a * x + self.b"
      ],
      "metadata": {
        "id": "6cJok3eSZh_d"
      },
      "execution_count": 11,
      "outputs": []
    },
    {
      "cell_type": "code",
      "source": [
        "model = LinearRegressionModel()"
      ],
      "metadata": {
        "id": "vNN6Rsd-amFd"
      },
      "execution_count": 12,
      "outputs": []
    },
    {
      "cell_type": "code",
      "source": [
        "# model parameters\n",
        "model.state_dict()"
      ],
      "metadata": {
        "colab": {
          "base_uri": "https://localhost:8080/"
        },
        "id": "9auwMOT4e1GD",
        "outputId": "ef21c35a-bc6c-4e98-a07f-766dc46f021f"
      },
      "execution_count": 15,
      "outputs": [
        {
          "output_type": "execute_result",
          "data": {
            "text/plain": [
              "OrderedDict([('a', tensor([-1.4418])), ('b', tensor([2.4883]))])"
            ]
          },
          "metadata": {},
          "execution_count": 15
        }
      ]
    },
    {
      "cell_type": "code",
      "source": [
        "\n",
        "n_epochs = 100\n",
        "lr = 1e-6\n",
        "\n",
        "loss_fn = torch.nn.MSELoss()\n",
        "optimizer = torch.optim.SGD(lr=lr, params=model.parameters())\n"
      ],
      "metadata": {
        "id": "_p2wbbGrfTrR"
      },
      "execution_count": 22,
      "outputs": []
    },
    {
      "cell_type": "code",
      "source": [
        "\n",
        "for e in range(n_epochs):\n",
        "\n",
        "# set model in training mode\n",
        "  model.train()\n",
        "  y_hat = model(X_train_tensor)\n",
        "  loss = loss_fn(y_hat, y_train_tensor)\n",
        "\n",
        "  loss.backward()\n",
        "  optimizer.step()\n",
        "  optimizir.zero_grad()\n",
        "\n",
        "\n"
      ],
      "metadata": {
        "id": "RLxXYDZzgHgk"
      },
      "execution_count": 26,
      "outputs": []
    },
    {
      "cell_type": "code",
      "source": [
        "model.state_dict()"
      ],
      "metadata": {
        "colab": {
          "base_uri": "https://localhost:8080/"
        },
        "id": "ow1bJRfXgspG",
        "outputId": "b55f7fb4-bc71-4237-bda5-baebea472761"
      },
      "execution_count": 27,
      "outputs": [
        {
          "output_type": "execute_result",
          "data": {
            "text/plain": [
              "OrderedDict([('a', tensor([-1.4400])), ('b', tensor([2.4887]))])"
            ]
          },
          "metadata": {},
          "execution_count": 27
        }
      ]
    },
    {
      "cell_type": "code",
      "source": [],
      "metadata": {
        "id": "52LIeQ2cg_ZT"
      },
      "execution_count": null,
      "outputs": []
    }
  ]
}