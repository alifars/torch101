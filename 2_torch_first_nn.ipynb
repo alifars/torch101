{
  "nbformat": 4,
  "nbformat_minor": 0,
  "metadata": {
    "colab": {
      "provenance": [],
      "authorship_tag": "ABX9TyO7C4x5AdP1TEEFFtR7gETL",
      "include_colab_link": true
    },
    "kernelspec": {
      "name": "python3",
      "display_name": "Python 3"
    },
    "language_info": {
      "name": "python"
    }
  },
  "cells": [
    {
      "cell_type": "markdown",
      "metadata": {
        "id": "view-in-github",
        "colab_type": "text"
      },
      "source": [
        "<a href=\"https://colab.research.google.com/github/alifars/torch101/blob/main/torch_first_nn.ipynb\" target=\"_parent\"><img src=\"https://colab.research.google.com/assets/colab-badge.svg\" alt=\"Open In Colab\"/></a>"
      ]
    },
    {
      "cell_type": "code",
      "execution_count": 1,
      "metadata": {
        "id": "yH2UOyU5D4al"
      },
      "outputs": [],
      "source": []
    },
    {
      "cell_type": "markdown",
      "source": [
        "# Ingredients ⛹\n",
        "\n",
        "\n",
        "1.   Tensors\n",
        "2.   torch autograd\n",
        "3.   torch loss\n",
        "4.   torch optimizer\n",
        "5.   learning rate\n",
        "6.   number of epochs\n",
        "\n",
        "\n"
      ],
      "metadata": {
        "id": "9qS2TXJwgOui"
      }
    },
    {
      "cell_type": "code",
      "source": [
        "import torch"
      ],
      "metadata": {
        "id": "EqarwydygteL"
      },
      "execution_count": 2,
      "outputs": []
    },
    {
      "cell_type": "code",
      "source": [
        "import random\n",
        "import numpy as np\n",
        "from sklearn.model_selection import train_test_split\n",
        "random.seed(42)\n",
        "\n",
        "X = np.random.randn(100)\n",
        "a, b = 2,3\n",
        "noise = np.random.randn(100)\n",
        "y = a*X + b + noise\n",
        "X_train, X_test, y_train, y_test = train_test_split(X,y, test_size= 0.2)"
      ],
      "metadata": {
        "id": "EdXq1prA2ur2"
      },
      "execution_count": 3,
      "outputs": []
    },
    {
      "cell_type": "code",
      "source": [],
      "metadata": {
        "id": "O7qv1Pio3Or1"
      },
      "execution_count": 3,
      "outputs": []
    },
    {
      "cell_type": "code",
      "source": [
        "from matplotlib import pyplot as plt\n",
        "\n",
        "plt.scatter(X_train, y_train)\n",
        "plt.scatter(X_test, y_test)\n"
      ],
      "metadata": {
        "colab": {
          "base_uri": "https://localhost:8080/",
          "height": 448
        },
        "id": "dtEAE1oB3Efi",
        "outputId": "d875f298-2219-4881-f91d-bf0237a88932"
      },
      "execution_count": 4,
      "outputs": [
        {
          "output_type": "execute_result",
          "data": {
            "text/plain": [
              "<matplotlib.collections.PathCollection at 0x7ed9cd8ae6e0>"
            ]
          },
          "metadata": {},
          "execution_count": 4
        },
        {
          "output_type": "display_data",
          "data": {
            "text/plain": [
              "<Figure size 640x480 with 1 Axes>"
            ],
            "image/png": "[encoded data removed]"
          },
          "metadata": {}
        }
      ]
    },
    {
      "cell_type": "code",
      "source": [
        "X_train_tensor, X_test_tensor, y_train_tensor, y_test_tensor = torch.from_numpy(X_train),torch.from_numpy(X_test),torch.from_numpy(y_train),torch.from_numpy(y_test)"
      ],
      "metadata": {
        "id": "gI-9AQv13M8f"
      },
      "execution_count": 5,
      "outputs": []
    },
    {
      "cell_type": "code",
      "source": [
        "a = torch.randn(1,requires_grad= True)\n",
        "b = torch.randn(1,requires_grad= True)\n",
        "\n",
        "print(a,b)\n",
        "# torch loss\n",
        "loss_fn = torch.nn.MSELoss()\n",
        "# torch optimizer\n",
        "lr = 1e-6\n",
        "optimizer = torch.optim.SGD(lr = lr, params= [a,b])"
      ],
      "metadata": {
        "colab": {
          "base_uri": "https://localhost:8080/"
        },
        "id": "QlsRixf97hR3",
        "outputId": "d064da5e-4cf0-49a2-d886-a7f30666fa00"
      },
      "execution_count": 12,
      "outputs": [
        {
          "output_type": "stream",
          "name": "stdout",
          "text": [
            "tensor([0.7221], requires_grad=True) tensor([-0.7389], requires_grad=True)\n"
          ]
        }
      ]
    },
    {
      "cell_type": "code",
      "source": [
        "epochs = 100\n",
        "\n",
        "for e in range(epochs):\n",
        "\n",
        "   y_hat = a * X_train_tensor + b\n",
        "   loss = loss_fn(y_hat, y_train_tensor)\n",
        "\n",
        "   loss.backward()\n",
        "   optimizer.step()\n",
        "   optimizer.zero_grad()\n",
        "\n",
        "print(a,b)\n",
        "\n"
      ],
      "metadata": {
        "colab": {
          "base_uri": "https://localhost:8080/"
        },
        "id": "Pix4Lccp8mrK",
        "outputId": "2fbd19e7-5119-47ee-acbc-b3b289635b84"
      },
      "execution_count": 13,
      "outputs": [
        {
          "output_type": "stream",
          "name": "stdout",
          "text": [
            "tensor([0.7222], requires_grad=True) tensor([-0.7382], requires_grad=True)\n"
          ]
        }
      ]
    },
    {
      "cell_type": "code",
      "source": [],
      "metadata": {
        "id": "OLu16-SBp6hF"
      },
      "execution_count": null,
      "outputs": []
    }
  ]
}
